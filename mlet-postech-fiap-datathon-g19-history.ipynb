{
 "cells": [
  {
   "cell_type": "markdown",
   "id": "4c8fa8f0",
   "metadata": {
    "_cell_guid": "b1076dfc-b9ad-4769-8c92-a6c4dae69d19",
    "_uuid": "8f2839f25d086af736a60e9eeb907d3b93b6e0e5",
    "papermill": {
     "duration": 0.008074,
     "end_time": "2025-03-02T15:16:59.583127",
     "exception": false,
     "start_time": "2025-03-02T15:16:59.575053",
     "status": "completed"
    },
    "tags": []
   },
   "source": [
    "## 1. Apresentação  "
   ]
  },
  {
   "cell_type": "markdown",
   "id": "324fc1cf",
   "metadata": {
    "papermill": {
     "duration": 0.006844,
     "end_time": "2025-03-02T15:16:59.597491",
     "exception": false,
     "start_time": "2025-03-02T15:16:59.590647",
     "status": "completed"
    },
    "tags": []
   },
   "source": [
    "### Objetivo\n",
    "\n",
    "Seu desafio é desenvolver um modelo de sistema de recomendação e realizar o deploy dele utilizando as técnicas aprendidas no curso. Nesse cenário, surge o desafio de fornecer recomendações personalizadas para cada usuário com base nos dados de notícias do DPlay, predizendo qual será a próxima notícia que ele vai ler.\n",
    "\n",
    "Técnica Aprendizagem supervisionada, mais precisamente a técnicas de recomendação."
   ]
  },
  {
   "cell_type": "markdown",
   "id": "644fe58d",
   "metadata": {
    "papermill": {
     "duration": 0.007266,
     "end_time": "2025-03-02T15:16:59.611954",
     "exception": false,
     "start_time": "2025-03-02T15:16:59.604688",
     "status": "completed"
    },
    "tags": []
   },
   "source": [
    "### Conjunto de Treino \n",
    "\n",
    "O conjunto de treino está disponibilizado em diferentes partes, cada uma contendo informação complementar.\n",
    "Os arquivos treino_parte_X.csv, em que X é um valor de 1 até 6, consistem das colunas:\n",
    "    \n",
    "    \n",
    "    1. userId: id do usuário.\n",
    "    2. userType: usuário logado ou anônimo.\n",
    "    3. HistorySize: quantidade de notícias lidas pelo usuário.\n",
    "    4. history: lista de notícias visitadas pelo usuário.\n",
    "    5. TimestampHistory: momento em que o usuário visitou a página.\n",
    "    6. timeOnPageHistory: quantidade de ms em que o usuário ficou na página.\n",
    "    7. numberOfClicksHistory: quantidade de clicks na matéria.\n",
    "    8. scrollPercentageHistory: quanto o usuário visualizou da matéria.\n",
    "    9. pageVisitsCountHistory: quantidade de vezes que o usuário visitou a matéria.\n",
    "\n",
    "\n",
    "Além desses arquivos, a pasta de treino contém uma subpasta denominada de itens. Ela contém a seguinte informação:\n",
    "\n",
    "    1. Page: id da matéria. Esse é o mesmo id que aparece na coluna history de antes.\n",
    "    2. Url: url da matéria.\n",
    "    3. Issued: data em que a matéria foi criada.\n",
    "    4. Modified: última data em que a matéria foi modificada.\n",
    "    5. Title: título da matéria.\n",
    "    6. Body: corpo da matéria.Caption: subtítulo da matéria.\n",
    "\n",
    "Este conjunto de treino consiste em dados de usuários reais da DPlay. Eles forem coletados até uma data limite T (a maior data em todo o conjunto TimestampHistory).\n"
   ]
  },
  {
   "cell_type": "markdown",
   "id": "7691dd7c",
   "metadata": {
    "papermill": {
     "duration": 0.006967,
     "end_time": "2025-03-02T15:16:59.626134",
     "exception": false,
     "start_time": "2025-03-02T15:16:59.619167",
     "status": "completed"
    },
    "tags": []
   },
   "source": [
    "### Conjunto de Validação\n",
    "\n",
    "Capturando informações de um período posterior ao treino, ou seja, não existe sobreposição temporal com o treino, o conjunto de validação consiste em:\n",
    "\n",
    "    1. userId: id do usuário.\n",
    "    2. userType: usuário logado ou anônimo.\n",
    "    3. history: lista de páginas que devem ser recomendadas ao usuário.\n",
    "\n"
   ]
  },
  {
   "cell_type": "markdown",
   "id": "fbf350ea",
   "metadata": {
    "papermill": {
     "duration": 0.006929,
     "end_time": "2025-03-02T15:16:59.640428",
     "exception": false,
     "start_time": "2025-03-02T15:16:59.633499",
     "status": "completed"
    },
    "tags": []
   },
   "source": [
    "## 2. Carregamento dos Dados"
   ]
  },
  {
   "cell_type": "code",
   "execution_count": 1,
   "id": "bb367d5d",
   "metadata": {
    "execution": {
     "iopub.execute_input": "2025-03-02T15:16:59.656374Z",
     "iopub.status.busy": "2025-03-02T15:16:59.655986Z",
     "iopub.status.idle": "2025-03-02T15:17:03.276003Z",
     "shell.execute_reply": "2025-03-02T15:17:03.274581Z"
    },
    "papermill": {
     "duration": 3.63008,
     "end_time": "2025-03-02T15:17:03.277868",
     "exception": false,
     "start_time": "2025-03-02T15:16:59.647788",
     "status": "completed"
    },
    "tags": []
   },
   "outputs": [
    {
     "name": "stdout",
     "output_type": "stream",
     "text": [
      "[nltk_data] Downloading package stopwords to /usr/share/nltk_data...\n",
      "[nltk_data]   Unzipping corpora/stopwords.zip.\n"
     ]
    },
    {
     "data": {
      "text/plain": [
       "True"
      ]
     },
     "execution_count": 1,
     "metadata": {},
     "output_type": "execute_result"
    }
   ],
   "source": [
    "import pandas as pd\n",
    "import numpy as np\n",
    "\n",
    "from nltk.corpus import stopwords\n",
    "from sklearn.metrics.pairwise import linear_kernel\n",
    "from sklearn.metrics.pairwise import cosine_similarity\n",
    "from sklearn.feature_extraction.text import TfidfVectorizer\n",
    "from sklearn.feature_extraction.text import CountVectorizer\n",
    "from sklearn.decomposition import LatentDirichletAllocation\n",
    "import re\n",
    "import random \n",
    "\n",
    "\n",
    "from nltk.tokenize import word_tokenize\n",
    "from nltk.tokenize import RegexpTokenizer\n",
    "import string\n",
    "import nltk\n",
    "nltk.download(\"stopwords\")"
   ]
  },
  {
   "cell_type": "code",
   "execution_count": 2,
   "id": "6e1bd4c2",
   "metadata": {
    "execution": {
     "iopub.execute_input": "2025-03-02T15:17:03.294879Z",
     "iopub.status.busy": "2025-03-02T15:17:03.294334Z",
     "iopub.status.idle": "2025-03-02T15:17:05.959830Z",
     "shell.execute_reply": "2025-03-02T15:17:05.958782Z"
    },
    "papermill": {
     "duration": 2.675749,
     "end_time": "2025-03-02T15:17:05.961590",
     "exception": false,
     "start_time": "2025-03-02T15:17:03.285841",
     "status": "completed"
    },
    "tags": []
   },
   "outputs": [
    {
     "data": {
      "text/html": [
       "        <script type=\"text/javascript\">\n",
       "        window.PlotlyConfig = {MathJaxConfig: 'local'};\n",
       "        if (window.MathJax && window.MathJax.Hub && window.MathJax.Hub.Config) {window.MathJax.Hub.Config({SVG: {font: \"STIX-Web\"}});}\n",
       "        if (typeof require !== 'undefined') {\n",
       "        require.undef(\"plotly\");\n",
       "        requirejs.config({\n",
       "            paths: {\n",
       "                'plotly': ['https://cdn.plot.ly/plotly-2.35.2.min']\n",
       "            }\n",
       "        });\n",
       "        require(['plotly'], function(Plotly) {\n",
       "            window._Plotly = Plotly;\n",
       "        });\n",
       "        }\n",
       "        </script>\n",
       "        "
      ]
     },
     "metadata": {},
     "output_type": "display_data"
    },
    {
     "data": {
      "text/html": [
       "        <script type=\"text/javascript\">\n",
       "        window.PlotlyConfig = {MathJaxConfig: 'local'};\n",
       "        if (window.MathJax && window.MathJax.Hub && window.MathJax.Hub.Config) {window.MathJax.Hub.Config({SVG: {font: \"STIX-Web\"}});}\n",
       "        if (typeof require !== 'undefined') {\n",
       "        require.undef(\"plotly\");\n",
       "        requirejs.config({\n",
       "            paths: {\n",
       "                'plotly': ['https://cdn.plot.ly/plotly-2.35.2.min']\n",
       "            }\n",
       "        });\n",
       "        require(['plotly'], function(Plotly) {\n",
       "            window._Plotly = Plotly;\n",
       "        });\n",
       "        }\n",
       "        </script>\n",
       "        "
      ]
     },
     "metadata": {},
     "output_type": "display_data"
    },
    {
     "data": {
      "text/plain": [
       "Renderers configuration\n",
       "-----------------------\n",
       "    Default renderer: 'plotly_mimetype+notebook_connected'\n",
       "    Available renderers:\n",
       "        ['plotly_mimetype', 'jupyterlab', 'nteract', 'vscode',\n",
       "         'notebook', 'notebook_connected', 'kaggle', 'azure', 'colab',\n",
       "         'cocalc', 'databricks', 'json', 'png', 'jpeg', 'jpg', 'svg',\n",
       "         'pdf', 'browser', 'firefox', 'chrome', 'chromium', 'iframe',\n",
       "         'iframe_connected', 'sphinx_gallery', 'sphinx_gallery_png']"
      ]
     },
     "execution_count": 2,
     "metadata": {},
     "output_type": "execute_result"
    }
   ],
   "source": [
    "import plotly\n",
    "import plotly.offline as py\n",
    "import plotly.graph_objs as go # criará de fato os gráficos\n",
    "from plotly.offline import plot, iplot\n",
    "import cufflinks as cf # para conectar o plotly ao pandas\n",
    "cf.go_offline()\n",
    "plotly.offline.init_notebook_mode(connected = True)\n",
    "pd.options.display.max_columns = 30\n",
    "cf.set_config_file(world_readable=True, theme='solar')\n",
    "from IPython.core.interactiveshell import InteractiveShell\n",
    "InteractiveShell.ast_node_interactivity = 'all'\n",
    "\n",
    "import plotly.io as pio\n",
    "pio.renderers\n"
   ]
  },
  {
   "cell_type": "code",
   "execution_count": 3,
   "id": "c4eb9bab",
   "metadata": {
    "execution": {
     "iopub.execute_input": "2025-03-02T15:17:05.978841Z",
     "iopub.status.busy": "2025-03-02T15:17:05.978519Z",
     "iopub.status.idle": "2025-03-02T15:17:05.983380Z",
     "shell.execute_reply": "2025-03-02T15:17:05.982265Z"
    },
    "papermill": {
     "duration": 0.015162,
     "end_time": "2025-03-02T15:17:05.984933",
     "exception": false,
     "start_time": "2025-03-02T15:17:05.969771",
     "status": "completed"
    },
    "tags": []
   },
   "outputs": [
    {
     "name": "stdout",
     "output_type": "stream",
     "text": [
      "Done\n"
     ]
    }
   ],
   "source": [
    "pio.renderers.default = 'iframe'\n",
    "print(\"Done\")"
   ]
  },
  {
   "cell_type": "markdown",
   "id": "61eae6a5",
   "metadata": {
    "papermill": {
     "duration": 0.00742,
     "end_time": "2025-03-02T15:17:06.000300",
     "exception": false,
     "start_time": "2025-03-02T15:17:05.992880",
     "status": "completed"
    },
    "tags": []
   },
   "source": [
    "### Adicionando StopWords PT-BR"
   ]
  },
  {
   "cell_type": "code",
   "execution_count": 4,
   "id": "6fce15c1",
   "metadata": {
    "execution": {
     "iopub.execute_input": "2025-03-02T15:17:06.017000Z",
     "iopub.status.busy": "2025-03-02T15:17:06.016656Z",
     "iopub.status.idle": "2025-03-02T15:17:06.028621Z",
     "shell.execute_reply": "2025-03-02T15:17:06.027486Z"
    },
    "papermill": {
     "duration": 0.022285,
     "end_time": "2025-03-02T15:17:06.030380",
     "exception": false,
     "start_time": "2025-03-02T15:17:06.008095",
     "status": "completed"
    },
    "tags": []
   },
   "outputs": [
    {
     "name": "stdout",
     "output_type": "stream",
     "text": [
      "Done\n"
     ]
    }
   ],
   "source": [
    "stopwords_ptbr = [\n",
    "    \"a\", \"à\", \"agora\", \"ainda\", \"alguém\", \"algum\", \"alguma\", \"algumas\", \"alguns\", \"ampla\", \"amplas\", \"amplo\", \"amplos\",\n",
    "    \"ante\", \"antes\", \"ao\", \"aos\", \"após\", \"aquela\", \"aquelas\", \"aquele\", \"aqueles\", \"aquilo\", \"as\", \"às\", \"até\", \"atrás\", \"bem\", \"boa\", \"boas\", \"bom\", \"bons\",\n",
    "    \"cada\", \"caminho\", \"catorze\", \"cedo\", \"cento\", \"certamente\", \"certeza\", \"cima\", \"cinco\", \"coisa\", \"coisas\", \"com\", \"como\", \"conselho\",\n",
    "    \"contudo\", \"da\", \"daquele\", \"daqueles\", \"dar\", \"das\", \"de\", \"debaixo\", \"dela\", \"delas\", \"dele\", \"deles\", \"demais\", \"dentro\", \"depois\", \"desde\",\n",
    "    \"dessa\", \"dessas\", \"desse\", \"desses\", \"desta\", \"destas\", \"deste\", \"destes\", \"deve\", \"devem\", \"deverá\", \"dez\", \"dezoito\", \"dia\", \"diante\", \"do\",\n",
    "    \"dois\",\"dos\", \"doze\", \"duas\", \"durante\", \"e\", \"ela\", \"elas\", \"ele\", \"eles\", \"em\", \"embora\", \"entre\", \"então\", \"era\", \"essa\", \"essas\", \"esse\", \"esses\",\n",
    "    \"esta\", \"está\", \"estamos\", \"estão\", \"estar\", \"estas\", \"estava\", \"estavam\", \"este\", \"estes\", \"esteve\", \"estive\", \"estivemos\", \"estiveram\",\n",
    "    \"eu\", \"exemplo\", \"fará\", \"fazer\", \"fez\", \"fim\", \"foi\", \"fora\", \"foram\", \"for\", \"fosse\", \"fossem\", \"fui\", \"geral\", \"grande\", \"grandes\", \"grupo\",\n",
    "    \"há\", \"haja\", \"houve\", \"ia\", \"início\", \"ir\", \"isso\", \"isto\", \"já\", \"lado\", \"lá\", \"lhe\", \"lhes\", \"logo\", \"longe\", \"lugar\", \"maior\", \"mais\",\n",
    "    \"mal\", \"mas\", \"me\", \"meio\", \"menor\", \"menos\", \"meu\", \"meus\", \"mil\", \"minha\", \"minhas\", \"momento\", \"muito\", \"muitos\", \"na\", \"nas\", \"nada\", \"não\", \"naquela\",\n",
    "    \"naquelas\", \"naquele\", \"naqueles\", \"nas\", \"nem\", \"nenhum\", \"nessa\", \"nessas\", \"nesse\", \"nesses\", \"nesta\", \"nestas\", \"neste\", \"nestes\", \"ninguém\",\n",
    "    \"nas\", \"no\", \"nós\", \"nos\", \"nossa\", \"nossas\", \"nosso\", \"nossos\", \"nova\", \"novas\", \"nove\", \"novo\", \"novos\", \"num\", \"numa\", \"número\", \"nunca\", \"o\", \"onde\",\n",
    "    \"ontem\", \"onze\", \"os\", \"ou\", \"outra\", \"outras\", \"outro\", \"outros\", \"para\", \"parece\", \"parte\", \"pegar\", \"pela\", \"pelas\", \"pelo\", \"pelos\", \"perto\",\n",
    "    \"pode\", \"pude\", \"põem\", \"ponto\", \"pontos\", \"por\", \"porque\", \"porquê\", \"posição\", \"possível\", \"posso\", \"pouca\", \"poucas\", \"pouco\", \"poucos\",\n",
    "    \"primeiro\", \"próprio\", \"próxima\", \"próximas\", \"próximo\", \"próximos\", \"puderam\", \"quando\", \"quanto\", \"quase\", \"quatro\", \"que\", \"quem\", \"quer\",\n",
    "    \"quero\", \"questão\", \"quieto\", \"quinta\", \"quinto\", \"quiseram\", \"quatorze\", \"quinhentos\", \"relação\", \"sabe\", \"são\", \"se\", \"segunda\", \"segundo\",\n",
    "    \"sei\", \"seis\", \"sem\", \"sempre\", \"ser\", \"será\", \"serão\", \"sete\", \"seu\", \"seus\", \"sexta\", \"sexto\", \"sim\", \"sistema\", \"sob\", \"sobre\", \"sois\", \"somos\",\n",
    "    \"sou\", \"sua\", \"suas\", \"tal\", \"talvez\", \"também\", \"tanta\", \"tantas\", \"tanto\", \"tantos\", \"te\", \"tem\", \"têm\", \"temos\", \"tempo\", \"tenho\", \"ter\",\n",
    "    \"terá\", \"terão\", \"terceira\", \"terceiro\", \"teu\", \"teus\", \"teve\", \"tinha\", \"tinham\", \"toda\", \"todas\", \"todo\", \"todos\", \"trabalho\", \"três\", \"treze\",\n",
    "    \"tu\", \"tua\", \"tuas\", \"tudo\", \"último\", \"um\", \"uma\", \"umas\", \"uns\", \"vai\", \"valor\", \"veja\", \"ver\", \"verdade\", \"verdadeiro\", \"vez\", \"vezes\", \"vi\",\n",
    "    \"vindo\", \"vinte\", \"você\", \"vocês\", \"vos\", \"vossa\", \"vossas\", \"vosso\", \"vossos\", \"zero\"\n",
    "]\n",
    "print(\"Done\")"
   ]
  },
  {
   "cell_type": "markdown",
   "id": "2f9aebd0",
   "metadata": {
    "papermill": {
     "duration": 0.007512,
     "end_time": "2025-03-02T15:17:06.045930",
     "exception": false,
     "start_time": "2025-03-02T15:17:06.038418",
     "status": "completed"
    },
    "tags": []
   },
   "source": [
    "## Configurações da AWS - S3"
   ]
  },
  {
   "cell_type": "code",
   "execution_count": 5,
   "id": "c1f5656b",
   "metadata": {
    "execution": {
     "iopub.execute_input": "2025-03-02T15:17:06.063647Z",
     "iopub.status.busy": "2025-03-02T15:17:06.063259Z",
     "iopub.status.idle": "2025-03-02T15:17:07.525351Z",
     "shell.execute_reply": "2025-03-02T15:17:07.524102Z"
    },
    "papermill": {
     "duration": 1.473303,
     "end_time": "2025-03-02T15:17:07.527238",
     "exception": false,
     "start_time": "2025-03-02T15:17:06.053935",
     "status": "completed"
    },
    "tags": []
   },
   "outputs": [
    {
     "name": "stdout",
     "output_type": "stream",
     "text": [
      "Done\n"
     ]
    }
   ],
   "source": [
    "import os\n",
    "import boto3\n",
    "import pickle\n",
    "from io import BytesIO\n",
    "from kaggle_secrets import UserSecretsClient\n",
    "from botocore.exceptions import NoCredentialsError\n",
    "\n",
    "user_secrets = UserSecretsClient()\n",
    "\n",
    "# Configurações da AWS\n",
    "AWS_ACCESS_KEY = user_secrets.get_secret(\"AWS_ACCESS_KEY_ID\")\n",
    "AWS_SECRET_KEY = user_secrets.get_secret(\"AWS_SECRET_ACCESS_KEY\")\n",
    "AWS_SESSION_TOKEN = user_secrets.get_secret(\"AWS_SESSION_TOKEN\")\n",
    "AWS_REGION = user_secrets.get_secret(\"AWS_REGION\")\n",
    "BUCKET_NAME = \"datathon-base\"\n",
    "\n",
    "# Criar conexão com o S3\n",
    "def get_s3_client():\n",
    "    return boto3.client(\n",
    "        \"s3\",\n",
    "        aws_access_key_id=AWS_ACCESS_KEY,\n",
    "        aws_secret_access_key=AWS_SECRET_KEY,\n",
    "        aws_session_token=AWS_SESSION_TOKEN,\n",
    "        region_name=AWS_REGION,\n",
    "    )\n",
    "\n",
    "def upload_to_s3(file_name, bucket_name, object_name=None):\n",
    "    \"\"\"\n",
    "    Faz upload de um arquivo CSV para um bucket S3.\n",
    "\n",
    "    :param file_name: Caminho do arquivo local a ser enviado\n",
    "    :param bucket_name: Nome do bucket S3\n",
    "    :param object_name: Nome do arquivo no S3 (opcional, usa o nome original se None)\n",
    "    :param aws_access_key: Chave de acesso AWS (opcional se já configurado)\n",
    "    :param aws_secret_key: Chave secreta AWS (opcional se já configurado)\n",
    "    \"\"\"\n",
    "    try:\n",
    "        # Criar cliente S3\n",
    "        s3_client = get_s3_client()\n",
    "        \n",
    "        if object_name is None:\n",
    "            object_name = file_name.split(\"/\")[-1]  # Usa apenas o nome do arquivo se não especificado\n",
    "        \n",
    "        s3_client.upload_file(file_name, bucket_name, object_name)\n",
    "        print(f\"Upload de {file_name} para {bucket_name}/{object_name} concluído com sucesso.\")\n",
    "    except NoCredentialsError:\n",
    "        print(\"Credenciais não encontradas. Verifique suas configurações de autenticação AWS.\")\n",
    "    except Exception as e:\n",
    "        print(f\"Erro ao fazer upload: {e}\")\n",
    "        \n",
    "def upload_to_s3(file_path, bucket_name=BUCKET_NAME, object_name=None):\n",
    "    \"\"\"Faz upload de um arquivo local para um bucket S3.\"\"\"\n",
    "    \n",
    "    if object_name is None:\n",
    "        object_name = os.path.basename(file_path)  # Nome padrão do arquivo no S3\n",
    "\n",
    "    try:\n",
    "        s3_client = get_s3_client()\n",
    "\n",
    "        s3_client.upload_file(file_path, bucket_name, object_name)\n",
    "        print(f\"✔ Upload de {file_path} para s3://{bucket_name}/{object_name} concluído.\")\n",
    "        return True\n",
    "\n",
    "    except FileNotFoundError:\n",
    "        print(\"❌ O arquivo não foi encontrado.\")\n",
    "        return False\n",
    "    except NoCredentialsError:\n",
    "        print(\"❌ Credenciais da AWS não encontradas.\")\n",
    "        return False\n",
    "\n",
    "# Função para salvar o modelo no S3\n",
    "def save_model_to_s3(model_data, s3_path=\"models/news_recommendation_model_cold_start.pkl\"):\n",
    "    s3 = get_s3_client()\n",
    "    \n",
    "    # Serializar o modelo\n",
    "    with open(\"news_recommendation_model_cold_start.pkl\", \"wb\") as f:\n",
    "        pickle.dump(model_data, f)\n",
    "\n",
    "    # Fazer upload para o S3\n",
    "    with open(\"news_recommendation_model_cold_start.pkl\", \"rb\") as f:\n",
    "        s3.upload_fileobj(f, BUCKET_NAME, s3_path)\n",
    "\n",
    "    print(f\"Modelo salvo no S3 em: s3://{BUCKET_NAME}/{s3_path}\")\n",
    "\n",
    "# Função para carregar o modelo do S3\n",
    "def load_model_from_s3(s3_path=\"models/news_recommendation_model_cold_start.pkl\"):\n",
    "    s3 = get_s3_client()\n",
    "    \n",
    "    # Baixar o arquivo do S3\n",
    "    with open(\"news_recommendation_model_cold_start.pkl\", \"wb\") as f:\n",
    "        s3.download_fileobj(BUCKET_NAME, s3_path, f)\n",
    "\n",
    "    # Carregar o modelo\n",
    "    with open(\"news_recommendation_model_cold_start.pkl\", \"rb\") as f:\n",
    "        model_data = pickle.load(f)\n",
    "\n",
    "    print(\"Modelo Cold Start carregado com sucesso!\")\n",
    "    return model_data\n",
    "\n",
    "def download_dataframe_from_s3(filename):\n",
    "    \"\"\"\n",
    "    Baixa um arquivo Parquet do S3 e carrega como DataFrame.\n",
    "    \n",
    "    :param filename: Nome do arquivo no S3 (ex: \"dados/meu_arquivo.parquet\")\n",
    "    :return: DataFrame do pandas\n",
    "    \"\"\"\n",
    "    try:\n",
    "        s3 = get_s3_client()\n",
    "        response = s3.get_object(Bucket=BUCKET_NAME, Key=filename)\n",
    "        buffer = BytesIO(response[\"Body\"].read())\n",
    "        df = pd.read_parquet(buffer, engine=\"pyarrow\")\n",
    "        print(f\"Arquivo {filename} baixado com sucesso!\")\n",
    "        return df\n",
    "    except Exception as e:\n",
    "        print(\"Erro ao baixar arquivo do S3:\", str(e))\n",
    "        return None\n",
    "\n",
    "def list_s3_files(bucket_name, prefix=''):\n",
    "    \"\"\"\n",
    "    Lista os arquivos de um bucket S3.\n",
    "    \n",
    "    :param bucket_name: Nome do bucket\n",
    "    :param prefix: Prefixo opcional para filtrar os arquivos\n",
    "    :return: Lista de arquivos no bucket\n",
    "    \"\"\"\n",
    "    s3 = get_s3_client() \n",
    "    files = []\n",
    "    \n",
    "    try:\n",
    "        response = s3.list_objects_v2(Bucket=BUCKET_NAME, Prefix=prefix)\n",
    "        if 'Contents' in response:\n",
    "            files = [obj['Key'] for obj in response['Contents']]\n",
    "    except Exception as e:\n",
    "        print(f\"Erro ao listar arquivos do bucket {bucket_name}: {e}\")\n",
    "    \n",
    "    return files\n",
    "\n",
    "print(\"Done\")"
   ]
  },
  {
   "cell_type": "code",
   "execution_count": 6,
   "id": "a7446d39",
   "metadata": {
    "execution": {
     "iopub.execute_input": "2025-03-02T15:17:07.544653Z",
     "iopub.status.busy": "2025-03-02T15:17:07.544030Z",
     "iopub.status.idle": "2025-03-02T15:17:09.007166Z",
     "shell.execute_reply": "2025-03-02T15:17:09.006059Z"
    },
    "papermill": {
     "duration": 1.474311,
     "end_time": "2025-03-02T15:17:09.009577",
     "exception": false,
     "start_time": "2025-03-02T15:17:07.535266",
     "status": "completed"
    },
    "tags": []
   },
   "outputs": [
    {
     "data": {
      "text/plain": [
       "['base_original/interacoes/dados_2022_07.csv',\n",
       " 'base_original/interacoes/dados_2022_08.csv',\n",
       " 'base_original/noticias/dados_2014_07.csv',\n",
       " 'base_original/noticias/dados_2015_12.csv',\n",
       " 'base_original/noticias/dados_2016_10.csv',\n",
       " 'base_original/noticias/dados_2016_11.csv',\n",
       " 'base_original/noticias/dados_2016_12.csv',\n",
       " 'base_original/noticias/dados_2017_01.csv',\n",
       " 'base_original/noticias/dados_2017_02.csv',\n",
       " 'base_original/noticias/dados_2017_03.csv',\n",
       " 'base_original/noticias/dados_2017_04.csv',\n",
       " 'base_original/noticias/dados_2017_05.csv',\n",
       " 'base_original/noticias/dados_2017_06.csv',\n",
       " 'base_original/noticias/dados_2017_07.csv',\n",
       " 'base_original/noticias/dados_2017_08.csv',\n",
       " 'base_original/noticias/dados_2017_09.csv',\n",
       " 'base_original/noticias/dados_2017_10.csv',\n",
       " 'base_original/noticias/dados_2017_11.csv',\n",
       " 'base_original/noticias/dados_2017_12.csv',\n",
       " 'base_original/noticias/dados_2018_01.csv',\n",
       " 'base_original/noticias/dados_2018_02.csv',\n",
       " 'base_original/noticias/dados_2018_03.csv',\n",
       " 'base_original/noticias/dados_2018_04.csv',\n",
       " 'base_original/noticias/dados_2018_05.csv',\n",
       " 'base_original/noticias/dados_2018_06.csv',\n",
       " 'base_original/noticias/dados_2018_07.csv',\n",
       " 'base_original/noticias/dados_2018_08.csv',\n",
       " 'base_original/noticias/dados_2018_09.csv',\n",
       " 'base_original/noticias/dados_2018_10.csv',\n",
       " 'base_original/noticias/dados_2018_11.csv',\n",
       " 'base_original/noticias/dados_2018_12.csv',\n",
       " 'base_original/noticias/dados_2019_01.csv',\n",
       " 'base_original/noticias/dados_2019_02.csv',\n",
       " 'base_original/noticias/dados_2019_03.csv',\n",
       " 'base_original/noticias/dados_2019_04.csv',\n",
       " 'base_original/noticias/dados_2019_05.csv',\n",
       " 'base_original/noticias/dados_2019_06.csv',\n",
       " 'base_original/noticias/dados_2019_07.csv',\n",
       " 'base_original/noticias/dados_2019_08.csv',\n",
       " 'base_original/noticias/dados_2019_09.csv',\n",
       " 'base_original/noticias/dados_2019_10.csv',\n",
       " 'base_original/noticias/dados_2019_11.csv',\n",
       " 'base_original/noticias/dados_2019_12.csv',\n",
       " 'base_original/noticias/dados_2020_01.csv',\n",
       " 'base_original/noticias/dados_2020_02.csv',\n",
       " 'base_original/noticias/dados_2020_03.csv',\n",
       " 'base_original/noticias/dados_2020_04.csv',\n",
       " 'base_original/noticias/dados_2020_05.csv',\n",
       " 'base_original/noticias/dados_2020_06.csv',\n",
       " 'base_original/noticias/dados_2020_07.csv',\n",
       " 'base_original/noticias/dados_2020_08.csv',\n",
       " 'base_original/noticias/dados_2020_09.csv',\n",
       " 'base_original/noticias/dados_2020_10.csv',\n",
       " 'base_original/noticias/dados_2020_11.csv',\n",
       " 'base_original/noticias/dados_2020_12.csv',\n",
       " 'base_original/noticias/dados_2021_01.csv',\n",
       " 'base_original/noticias/dados_2021_02.csv',\n",
       " 'base_original/noticias/dados_2021_03.csv',\n",
       " 'base_original/noticias/dados_2021_04.csv',\n",
       " 'base_original/noticias/dados_2021_05.csv',\n",
       " 'base_original/noticias/dados_2021_06.csv',\n",
       " 'base_original/noticias/dados_2021_07.csv',\n",
       " 'base_original/noticias/dados_2021_08.csv',\n",
       " 'base_original/noticias/dados_2021_09.csv',\n",
       " 'base_original/noticias/dados_2021_10.csv',\n",
       " 'base_original/noticias/dados_2021_11.csv',\n",
       " 'base_original/noticias/dados_2021_12.csv',\n",
       " 'base_original/noticias/dados_2022_01.csv',\n",
       " 'base_original/noticias/dados_2022_02.csv',\n",
       " 'base_original/noticias/dados_2022_03.csv',\n",
       " 'base_original/noticias/dados_2022_04.csv',\n",
       " 'base_original/noticias/dados_2022_05.csv',\n",
       " 'base_original/noticias/dados_2022_06.csv',\n",
       " 'base_original/noticias/dados_2022_07.csv',\n",
       " 'base_original/noticias/dados_2022_08.csv',\n",
       " 'base_original/noticias/dados_2022_09.csv',\n",
       " 'base_original/noticias/dados_2022_10.csv',\n",
       " 'base_original/noticias/dados_2022_11.csv',\n",
       " 'base_original/noticias/dados_2022_12.csv',\n",
       " 'base_original/noticias/dados_2023_01.csv',\n",
       " 'base_original/noticias/dados_2023_02.csv',\n",
       " 'base_original/noticias/dados_2023_03.csv',\n",
       " 'base_original/noticias/dados_2023_04.csv',\n",
       " 'base_original/noticias/dados_2023_05.csv',\n",
       " 'base_original/noticias/dados_2023_06.csv',\n",
       " 'dados/df_interactions.parquet',\n",
       " 'dados/df_news.parquet',\n",
       " 'models/content_based_model.pkl',\n",
       " 'models/news_recommendation_model_cold_start.pkl',\n",
       " 'models/news_recommendation_model_history.pkl',\n",
       " 'recomendations.csv']"
      ]
     },
     "execution_count": 6,
     "metadata": {},
     "output_type": "execute_result"
    }
   ],
   "source": [
    "arquivos = list_s3_files(BUCKET_NAME)\n",
    "arquivos\n"
   ]
  },
  {
   "cell_type": "code",
   "execution_count": 7,
   "id": "826a9561",
   "metadata": {
    "execution": {
     "iopub.execute_input": "2025-03-02T15:17:09.029070Z",
     "iopub.status.busy": "2025-03-02T15:17:09.028721Z",
     "iopub.status.idle": "2025-03-02T15:17:09.040264Z",
     "shell.execute_reply": "2025-03-02T15:17:09.039144Z"
    },
    "papermill": {
     "duration": 0.021989,
     "end_time": "2025-03-02T15:17:09.041705",
     "exception": false,
     "start_time": "2025-03-02T15:17:09.019716",
     "status": "completed"
    },
    "tags": []
   },
   "outputs": [
    {
     "name": "stdout",
     "output_type": "stream",
     "text": [
      "Done\n"
     ]
    }
   ],
   "source": [
    "class S3FileDownloader:\n",
    "    def __init__(self, bucket_name, prefix, local_dir='downloads', arq ='', new_arq =''):\n",
    "        \"\"\"\n",
    "        Classe para baixar arquivos de um diretório no S3 e concatená-los em um único DataFrame.\n",
    "        \n",
    "        :param bucket_name: Nome do bucket S3\n",
    "        :param prefix: Prefixo do diretório no S3\n",
    "        :param local_dir: Diretório local para salvar os arquivos (padrão: 'downloads')\n",
    "        \"\"\"\n",
    "        self.s3_client = get_s3_client()\n",
    "        self.bucket_name = bucket_name\n",
    "        self.prefix = prefix\n",
    "        self.local_dir = local_dir\n",
    "        self.arq = arq\n",
    "        self.new_arq = new_arq\n",
    "        \n",
    "        if not os.path.exists(local_dir):\n",
    "            os.makedirs(local_dir)\n",
    "    \n",
    "    def list_s3_files(self):\n",
    "        \"\"\"Lista os arquivos CSV no bucket S3 dentro do diretório especificado.\"\"\"\n",
    "        files = []\n",
    "        try:\n",
    "            response = self.s3_client.list_objects_v2(Bucket=self.bucket_name, Prefix=self.prefix)\n",
    "            if 'Contents' in response:\n",
    "                files = [obj['Key'] for obj in response['Contents'] if obj['Key'].endswith('.csv')]\n",
    "        except Exception as e:\n",
    "            print(f\"Erro ao listar arquivos do bucket {self.bucket_name}: {e}\")\n",
    "        return files\n",
    "    \n",
    "    def download_files(self):\n",
    "        \"\"\"Baixa todos os arquivos CSV listados do S3 para o diretório local.\"\"\"\n",
    "        files = self.list_s3_files()\n",
    "        for file_key in files:\n",
    "            file_name = os.path.join(self.local_dir, os.path.basename(file_key))\n",
    "            try:\n",
    "                self.s3_client.download_file(self.bucket_name, file_key, file_name)\n",
    "                print(f\"Baixado: {file_key} -> {file_name}\")\n",
    "            except Exception as e:\n",
    "                print(f\"Erro ao baixar {file_key}: {e}\")\n",
    "    \n",
    "    def concatenate_csv_files(self):\n",
    "        \"\"\"Lê e concatena os arquivos CSV baixados em um único DataFrame.\"\"\"\n",
    "        csv_files = [os.path.join(self.local_dir, f) for f in os.listdir(self.local_dir) if f.endswith('.csv')]\n",
    "        df_list = []\n",
    "        for file in csv_files:\n",
    "            try:\n",
    "                df = pd.read_csv(file)\n",
    "                df_list.append(df)\n",
    "            except Exception as e:\n",
    "                print(f\"Erro ao ler {file}: {e}\")\n",
    "        \n",
    "        if df_list:\n",
    "            return pd.concat(df_list, ignore_index=True)\n",
    "        else:\n",
    "            return pd.DataFrame()\n",
    "\n",
    "\n",
    "    def download_from_s3(self):\n",
    "        \"\"\"\n",
    "        Faz o download de um arquivo do S3.\n",
    "        \n",
    "        :param bucket_name: Nome do bucket no S3.\n",
    "        :param object_key: Caminho/Chave do arquivo no S3.\n",
    "        :param download_path: Caminho local onde o arquivo será salvo.\n",
    "        \"\"\"\n",
    "      \n",
    "        try:\n",
    "            # Fazendo o download do arquivo\n",
    "            self.s3_client.download_file(self.bucket_name, self.arq, self.new_arq)\n",
    "            print(f\"Download concluído: {self.local_dir}\")\n",
    "        except Exception as e:\n",
    "            print(f\"Erro ao fazer download do arquivo: {e}\")\n",
    "\n",
    "print(\"Done\")"
   ]
  },
  {
   "cell_type": "code",
   "execution_count": 8,
   "id": "bc9f0df7",
   "metadata": {
    "execution": {
     "iopub.execute_input": "2025-03-02T15:17:09.059141Z",
     "iopub.status.busy": "2025-03-02T15:17:09.058764Z",
     "iopub.status.idle": "2025-03-02T15:18:42.172865Z",
     "shell.execute_reply": "2025-03-02T15:18:42.171831Z"
    },
    "papermill": {
     "duration": 93.124827,
     "end_time": "2025-03-02T15:18:42.174786",
     "exception": false,
     "start_time": "2025-03-02T15:17:09.049959",
     "status": "completed"
    },
    "tags": []
   },
   "outputs": [
    {
     "name": "stdout",
     "output_type": "stream",
     "text": [
      "Baixado: base_original/noticias/dados_2014_07.csv -> /kaggle/working/noticias/dados_2014_07.csv\n",
      "Baixado: base_original/noticias/dados_2015_12.csv -> /kaggle/working/noticias/dados_2015_12.csv\n",
      "Baixado: base_original/noticias/dados_2016_10.csv -> /kaggle/working/noticias/dados_2016_10.csv\n",
      "Baixado: base_original/noticias/dados_2016_11.csv -> /kaggle/working/noticias/dados_2016_11.csv\n",
      "Baixado: base_original/noticias/dados_2016_12.csv -> /kaggle/working/noticias/dados_2016_12.csv\n",
      "Baixado: base_original/noticias/dados_2017_01.csv -> /kaggle/working/noticias/dados_2017_01.csv\n",
      "Baixado: base_original/noticias/dados_2017_02.csv -> /kaggle/working/noticias/dados_2017_02.csv\n",
      "Baixado: base_original/noticias/dados_2017_03.csv -> /kaggle/working/noticias/dados_2017_03.csv\n",
      "Baixado: base_original/noticias/dados_2017_04.csv -> /kaggle/working/noticias/dados_2017_04.csv\n",
      "Baixado: base_original/noticias/dados_2017_05.csv -> /kaggle/working/noticias/dados_2017_05.csv\n",
      "Baixado: base_original/noticias/dados_2017_06.csv -> /kaggle/working/noticias/dados_2017_06.csv\n",
      "Baixado: base_original/noticias/dados_2017_07.csv -> /kaggle/working/noticias/dados_2017_07.csv\n",
      "Baixado: base_original/noticias/dados_2017_08.csv -> /kaggle/working/noticias/dados_2017_08.csv\n",
      "Baixado: base_original/noticias/dados_2017_09.csv -> /kaggle/working/noticias/dados_2017_09.csv\n",
      "Baixado: base_original/noticias/dados_2017_10.csv -> /kaggle/working/noticias/dados_2017_10.csv\n",
      "Baixado: base_original/noticias/dados_2017_11.csv -> /kaggle/working/noticias/dados_2017_11.csv\n",
      "Baixado: base_original/noticias/dados_2017_12.csv -> /kaggle/working/noticias/dados_2017_12.csv\n",
      "Baixado: base_original/noticias/dados_2018_01.csv -> /kaggle/working/noticias/dados_2018_01.csv\n",
      "Baixado: base_original/noticias/dados_2018_02.csv -> /kaggle/working/noticias/dados_2018_02.csv\n",
      "Baixado: base_original/noticias/dados_2018_03.csv -> /kaggle/working/noticias/dados_2018_03.csv\n",
      "Baixado: base_original/noticias/dados_2018_04.csv -> /kaggle/working/noticias/dados_2018_04.csv\n",
      "Baixado: base_original/noticias/dados_2018_05.csv -> /kaggle/working/noticias/dados_2018_05.csv\n",
      "Baixado: base_original/noticias/dados_2018_06.csv -> /kaggle/working/noticias/dados_2018_06.csv\n",
      "Baixado: base_original/noticias/dados_2018_07.csv -> /kaggle/working/noticias/dados_2018_07.csv\n",
      "Baixado: base_original/noticias/dados_2018_08.csv -> /kaggle/working/noticias/dados_2018_08.csv\n",
      "Baixado: base_original/noticias/dados_2018_09.csv -> /kaggle/working/noticias/dados_2018_09.csv\n",
      "Baixado: base_original/noticias/dados_2018_10.csv -> /kaggle/working/noticias/dados_2018_10.csv\n",
      "Baixado: base_original/noticias/dados_2018_11.csv -> /kaggle/working/noticias/dados_2018_11.csv\n",
      "Baixado: base_original/noticias/dados_2018_12.csv -> /kaggle/working/noticias/dados_2018_12.csv\n",
      "Baixado: base_original/noticias/dados_2019_01.csv -> /kaggle/working/noticias/dados_2019_01.csv\n",
      "Baixado: base_original/noticias/dados_2019_02.csv -> /kaggle/working/noticias/dados_2019_02.csv\n",
      "Baixado: base_original/noticias/dados_2019_03.csv -> /kaggle/working/noticias/dados_2019_03.csv\n",
      "Baixado: base_original/noticias/dados_2019_04.csv -> /kaggle/working/noticias/dados_2019_04.csv\n",
      "Baixado: base_original/noticias/dados_2019_05.csv -> /kaggle/working/noticias/dados_2019_05.csv\n",
      "Baixado: base_original/noticias/dados_2019_06.csv -> /kaggle/working/noticias/dados_2019_06.csv\n",
      "Baixado: base_original/noticias/dados_2019_07.csv -> /kaggle/working/noticias/dados_2019_07.csv\n",
      "Baixado: base_original/noticias/dados_2019_08.csv -> /kaggle/working/noticias/dados_2019_08.csv\n",
      "Baixado: base_original/noticias/dados_2019_09.csv -> /kaggle/working/noticias/dados_2019_09.csv\n",
      "Baixado: base_original/noticias/dados_2019_10.csv -> /kaggle/working/noticias/dados_2019_10.csv\n",
      "Baixado: base_original/noticias/dados_2019_11.csv -> /kaggle/working/noticias/dados_2019_11.csv\n",
      "Baixado: base_original/noticias/dados_2019_12.csv -> /kaggle/working/noticias/dados_2019_12.csv\n",
      "Baixado: base_original/noticias/dados_2020_01.csv -> /kaggle/working/noticias/dados_2020_01.csv\n",
      "Baixado: base_original/noticias/dados_2020_02.csv -> /kaggle/working/noticias/dados_2020_02.csv\n",
      "Baixado: base_original/noticias/dados_2020_03.csv -> /kaggle/working/noticias/dados_2020_03.csv\n",
      "Baixado: base_original/noticias/dados_2020_04.csv -> /kaggle/working/noticias/dados_2020_04.csv\n",
      "Baixado: base_original/noticias/dados_2020_05.csv -> /kaggle/working/noticias/dados_2020_05.csv\n",
      "Baixado: base_original/noticias/dados_2020_06.csv -> /kaggle/working/noticias/dados_2020_06.csv\n",
      "Baixado: base_original/noticias/dados_2020_07.csv -> /kaggle/working/noticias/dados_2020_07.csv\n",
      "Baixado: base_original/noticias/dados_2020_08.csv -> /kaggle/working/noticias/dados_2020_08.csv\n",
      "Baixado: base_original/noticias/dados_2020_09.csv -> /kaggle/working/noticias/dados_2020_09.csv\n",
      "Baixado: base_original/noticias/dados_2020_10.csv -> /kaggle/working/noticias/dados_2020_10.csv\n",
      "Baixado: base_original/noticias/dados_2020_11.csv -> /kaggle/working/noticias/dados_2020_11.csv\n",
      "Baixado: base_original/noticias/dados_2020_12.csv -> /kaggle/working/noticias/dados_2020_12.csv\n",
      "Baixado: base_original/noticias/dados_2021_01.csv -> /kaggle/working/noticias/dados_2021_01.csv\n",
      "Baixado: base_original/noticias/dados_2021_02.csv -> /kaggle/working/noticias/dados_2021_02.csv\n",
      "Baixado: base_original/noticias/dados_2021_03.csv -> /kaggle/working/noticias/dados_2021_03.csv\n",
      "Baixado: base_original/noticias/dados_2021_04.csv -> /kaggle/working/noticias/dados_2021_04.csv\n",
      "Baixado: base_original/noticias/dados_2021_05.csv -> /kaggle/working/noticias/dados_2021_05.csv\n",
      "Baixado: base_original/noticias/dados_2021_06.csv -> /kaggle/working/noticias/dados_2021_06.csv\n",
      "Baixado: base_original/noticias/dados_2021_07.csv -> /kaggle/working/noticias/dados_2021_07.csv\n",
      "Baixado: base_original/noticias/dados_2021_08.csv -> /kaggle/working/noticias/dados_2021_08.csv\n",
      "Baixado: base_original/noticias/dados_2021_09.csv -> /kaggle/working/noticias/dados_2021_09.csv\n",
      "Baixado: base_original/noticias/dados_2021_10.csv -> /kaggle/working/noticias/dados_2021_10.csv\n",
      "Baixado: base_original/noticias/dados_2021_11.csv -> /kaggle/working/noticias/dados_2021_11.csv\n",
      "Baixado: base_original/noticias/dados_2021_12.csv -> /kaggle/working/noticias/dados_2021_12.csv\n",
      "Baixado: base_original/noticias/dados_2022_01.csv -> /kaggle/working/noticias/dados_2022_01.csv\n",
      "Baixado: base_original/noticias/dados_2022_02.csv -> /kaggle/working/noticias/dados_2022_02.csv\n",
      "Baixado: base_original/noticias/dados_2022_03.csv -> /kaggle/working/noticias/dados_2022_03.csv\n",
      "Baixado: base_original/noticias/dados_2022_04.csv -> /kaggle/working/noticias/dados_2022_04.csv\n",
      "Baixado: base_original/noticias/dados_2022_05.csv -> /kaggle/working/noticias/dados_2022_05.csv\n",
      "Baixado: base_original/noticias/dados_2022_06.csv -> /kaggle/working/noticias/dados_2022_06.csv\n",
      "Baixado: base_original/noticias/dados_2022_07.csv -> /kaggle/working/noticias/dados_2022_07.csv\n",
      "Baixado: base_original/noticias/dados_2022_08.csv -> /kaggle/working/noticias/dados_2022_08.csv\n",
      "Baixado: base_original/noticias/dados_2022_09.csv -> /kaggle/working/noticias/dados_2022_09.csv\n",
      "Baixado: base_original/noticias/dados_2022_10.csv -> /kaggle/working/noticias/dados_2022_10.csv\n",
      "Baixado: base_original/noticias/dados_2022_11.csv -> /kaggle/working/noticias/dados_2022_11.csv\n",
      "Baixado: base_original/noticias/dados_2022_12.csv -> /kaggle/working/noticias/dados_2022_12.csv\n",
      "Baixado: base_original/noticias/dados_2023_01.csv -> /kaggle/working/noticias/dados_2023_01.csv\n",
      "Baixado: base_original/noticias/dados_2023_02.csv -> /kaggle/working/noticias/dados_2023_02.csv\n",
      "Baixado: base_original/noticias/dados_2023_03.csv -> /kaggle/working/noticias/dados_2023_03.csv\n",
      "Baixado: base_original/noticias/dados_2023_04.csv -> /kaggle/working/noticias/dados_2023_04.csv\n",
      "Baixado: base_original/noticias/dados_2023_05.csv -> /kaggle/working/noticias/dados_2023_05.csv\n",
      "Baixado: base_original/noticias/dados_2023_06.csv -> /kaggle/working/noticias/dados_2023_06.csv\n"
     ]
    }
   ],
   "source": [
    "\n",
    "bucket_name = \"datathon-base\"\n",
    "prefix = \"base_original/noticias/\"\n",
    "local_dir = '/kaggle/working/noticias/'\n",
    "downloader = S3FileDownloader(bucket_name, prefix, local_dir)\n",
    "downloader.download_files()\n",
    "df_news = downloader.concatenate_csv_files()\n"
   ]
  },
  {
   "cell_type": "code",
   "execution_count": 9,
   "id": "5d044add",
   "metadata": {
    "execution": {
     "iopub.execute_input": "2025-03-02T15:18:42.202007Z",
     "iopub.status.busy": "2025-03-02T15:18:42.201658Z",
     "iopub.status.idle": "2025-03-02T15:18:42.227910Z",
     "shell.execute_reply": "2025-03-02T15:18:42.226882Z"
    },
    "papermill": {
     "duration": 0.04147,
     "end_time": "2025-03-02T15:18:42.229549",
     "exception": false,
     "start_time": "2025-03-02T15:18:42.188079",
     "status": "completed"
    },
    "tags": []
   },
   "outputs": [
    {
     "data": {
      "text/html": [
       "<div>\n",
       "<style scoped>\n",
       "    .dataframe tbody tr th:only-of-type {\n",
       "        vertical-align: middle;\n",
       "    }\n",
       "\n",
       "    .dataframe tbody tr th {\n",
       "        vertical-align: top;\n",
       "    }\n",
       "\n",
       "    .dataframe thead th {\n",
       "        text-align: right;\n",
       "    }\n",
       "</style>\n",
       "<table border=\"1\" class=\"dataframe\">\n",
       "  <thead>\n",
       "    <tr style=\"text-align: right;\">\n",
       "      <th></th>\n",
       "      <th>page</th>\n",
       "      <th>url</th>\n",
       "      <th>issued</th>\n",
       "      <th>modified</th>\n",
       "      <th>title</th>\n",
       "      <th>body</th>\n",
       "      <th>caption</th>\n",
       "    </tr>\n",
       "  </thead>\n",
       "  <tbody>\n",
       "    <tr>\n",
       "      <th>0</th>\n",
       "      <td>a5e207ec-4208-4e92-ac02-d37475f7000d</td>\n",
       "      <td>http://g1.globo.com/df/distrito-federal/notici...</td>\n",
       "      <td>2018-01-01 13:59:46+00:00</td>\n",
       "      <td>2018-01-01 13:59:47+00:00</td>\n",
       "      <td>Chuvas em 2017 ficam 15% abaixo do esperado pa...</td>\n",
       "      <td>Raios sobre região do DF\\nFelipe Bastos/Arquiv...</td>\n",
       "      <td>Volume esperado para últimos doze meses era de...</td>\n",
       "    </tr>\n",
       "    <tr>\n",
       "      <th>1</th>\n",
       "      <td>afc82fd5-6c2a-4b78-8197-003dd7cb3757</td>\n",
       "      <td>http://g1.globo.com/df/distrito-federal/notici...</td>\n",
       "      <td>2018-01-08 13:08:43+00:00</td>\n",
       "      <td>2018-01-08 13:51:40+00:00</td>\n",
       "      <td>Brasília tem 79 apartamentos funcionais de R$ ...</td>\n",
       "      <td>Prédio com apartamentos funcionais no Plano Pi...</td>\n",
       "      <td>Imóveis ficam em região nobre da capital e são...</td>\n",
       "    </tr>\n",
       "    <tr>\n",
       "      <th>2</th>\n",
       "      <td>259593ec-c608-43fc-984d-9fc50b3ec1a9</td>\n",
       "      <td>http://g1.globo.com/ba/bahia/noticia/pai-e-pre...</td>\n",
       "      <td>2018-01-16 01:22:46+00:00</td>\n",
       "      <td>2018-01-16 01:25:55+00:00</td>\n",
       "      <td>Pai é preso após agredir filho de 6 anos com c...</td>\n",
       "      <td>Pai agride filho de 6 anos com golpes de vasso...</td>\n",
       "      <td>Caso ocorreu na cidade de Feira de Santana, a ...</td>\n",
       "    </tr>\n",
       "  </tbody>\n",
       "</table>\n",
       "</div>"
      ],
      "text/plain": [
       "                                   page  \\\n",
       "0  a5e207ec-4208-4e92-ac02-d37475f7000d   \n",
       "1  afc82fd5-6c2a-4b78-8197-003dd7cb3757   \n",
       "2  259593ec-c608-43fc-984d-9fc50b3ec1a9   \n",
       "\n",
       "                                                 url  \\\n",
       "0  http://g1.globo.com/df/distrito-federal/notici...   \n",
       "1  http://g1.globo.com/df/distrito-federal/notici...   \n",
       "2  http://g1.globo.com/ba/bahia/noticia/pai-e-pre...   \n",
       "\n",
       "                      issued                   modified  \\\n",
       "0  2018-01-01 13:59:46+00:00  2018-01-01 13:59:47+00:00   \n",
       "1  2018-01-08 13:08:43+00:00  2018-01-08 13:51:40+00:00   \n",
       "2  2018-01-16 01:22:46+00:00  2018-01-16 01:25:55+00:00   \n",
       "\n",
       "                                               title  \\\n",
       "0  Chuvas em 2017 ficam 15% abaixo do esperado pa...   \n",
       "1  Brasília tem 79 apartamentos funcionais de R$ ...   \n",
       "2  Pai é preso após agredir filho de 6 anos com c...   \n",
       "\n",
       "                                                body  \\\n",
       "0  Raios sobre região do DF\\nFelipe Bastos/Arquiv...   \n",
       "1  Prédio com apartamentos funcionais no Plano Pi...   \n",
       "2  Pai agride filho de 6 anos com golpes de vasso...   \n",
       "\n",
       "                                             caption  \n",
       "0  Volume esperado para últimos doze meses era de...  \n",
       "1  Imóveis ficam em região nobre da capital e são...  \n",
       "2  Caso ocorreu na cidade de Feira de Santana, a ...  "
      ]
     },
     "execution_count": 9,
     "metadata": {},
     "output_type": "execute_result"
    }
   ],
   "source": [
    "df_news.head(3)"
   ]
  },
  {
   "cell_type": "code",
   "execution_count": 10,
   "id": "40f3d9e2",
   "metadata": {
    "execution": {
     "iopub.execute_input": "2025-03-02T15:18:42.256441Z",
     "iopub.status.busy": "2025-03-02T15:18:42.256045Z",
     "iopub.status.idle": "2025-03-02T15:19:31.167800Z",
     "shell.execute_reply": "2025-03-02T15:19:31.166680Z"
    },
    "papermill": {
     "duration": 48.927054,
     "end_time": "2025-03-02T15:19:31.169614",
     "exception": false,
     "start_time": "2025-03-02T15:18:42.242560",
     "status": "completed"
    },
    "tags": []
   },
   "outputs": [
    {
     "name": "stdout",
     "output_type": "stream",
     "text": [
      "Baixado: base_original/interacoes/dados_2022_07.csv -> /kaggle/working/interacoes/dados_2022_07.csv\n",
      "Baixado: base_original/interacoes/dados_2022_08.csv -> /kaggle/working/interacoes/dados_2022_08.csv\n"
     ]
    }
   ],
   "source": [
    "bucket_name = \"datathon-base\"\n",
    "prefix = \"base_original/interacoes/\"\n",
    "local_dir = '/kaggle/working/interacoes/'\n",
    "downloader = S3FileDownloader(bucket_name, prefix, local_dir)\n",
    "downloader.download_files()\n",
    "df_user = downloader.concatenate_csv_files()"
   ]
  },
  {
   "cell_type": "code",
   "execution_count": 11,
   "id": "50064362",
   "metadata": {
    "execution": {
     "iopub.execute_input": "2025-03-02T15:19:31.196634Z",
     "iopub.status.busy": "2025-03-02T15:19:31.196293Z",
     "iopub.status.idle": "2025-03-02T15:19:31.208658Z",
     "shell.execute_reply": "2025-03-02T15:19:31.207664Z"
    },
    "papermill": {
     "duration": 0.02753,
     "end_time": "2025-03-02T15:19:31.210214",
     "exception": false,
     "start_time": "2025-03-02T15:19:31.182684",
     "status": "completed"
    },
    "tags": []
   },
   "outputs": [
    {
     "data": {
      "text/html": [
       "<div>\n",
       "<style scoped>\n",
       "    .dataframe tbody tr th:only-of-type {\n",
       "        vertical-align: middle;\n",
       "    }\n",
       "\n",
       "    .dataframe tbody tr th {\n",
       "        vertical-align: top;\n",
       "    }\n",
       "\n",
       "    .dataframe thead th {\n",
       "        text-align: right;\n",
       "    }\n",
       "</style>\n",
       "<table border=\"1\" class=\"dataframe\">\n",
       "  <thead>\n",
       "    <tr style=\"text-align: right;\">\n",
       "      <th></th>\n",
       "      <th>userId</th>\n",
       "      <th>userType</th>\n",
       "      <th>historySize</th>\n",
       "      <th>history</th>\n",
       "      <th>timestampHistory</th>\n",
       "      <th>numberOfClicksHistory</th>\n",
       "      <th>timeOnPageHistory</th>\n",
       "      <th>scrollPercentageHistory</th>\n",
       "      <th>pageVisitsCountHistory</th>\n",
       "      <th>timestampHistory_new</th>\n",
       "    </tr>\n",
       "  </thead>\n",
       "  <tbody>\n",
       "    <tr>\n",
       "      <th>0</th>\n",
       "      <td>e5f68d5e7cdbe56d6984589b4baa6ebfc5e8a8a918e57d...</td>\n",
       "      <td>Logged</td>\n",
       "      <td>12</td>\n",
       "      <td>7456c88d-6473-46ed-83a6-dfc406994162</td>\n",
       "      <td>2022-08-01 16:13:12.309</td>\n",
       "      <td>21</td>\n",
       "      <td>84995</td>\n",
       "      <td>43.48</td>\n",
       "      <td>1</td>\n",
       "      <td>2022-08-01 16:13:12.309</td>\n",
       "    </tr>\n",
       "    <tr>\n",
       "      <th>1</th>\n",
       "      <td>e5f68d5e7cdbe56d6984589b4baa6ebfc5e8a8a918e57d...</td>\n",
       "      <td>Logged</td>\n",
       "      <td>12</td>\n",
       "      <td>458bf0ec-efb4-4bfd-9446-c80295e6aa87</td>\n",
       "      <td>2022-08-05 11:03:37.494</td>\n",
       "      <td>79</td>\n",
       "      <td>536583</td>\n",
       "      <td>75.56</td>\n",
       "      <td>1</td>\n",
       "      <td>2022-08-05 11:03:37.494</td>\n",
       "    </tr>\n",
       "    <tr>\n",
       "      <th>2</th>\n",
       "      <td>e5f68d5e7cdbe56d6984589b4baa6ebfc5e8a8a918e57d...</td>\n",
       "      <td>Logged</td>\n",
       "      <td>12</td>\n",
       "      <td>89fa73f0-4341-4de4-bb2a-e429ef96bd43</td>\n",
       "      <td>2022-08-05 11:25:02.544</td>\n",
       "      <td>25</td>\n",
       "      <td>110000</td>\n",
       "      <td>45.06</td>\n",
       "      <td>1</td>\n",
       "      <td>2022-08-05 11:25:02.544</td>\n",
       "    </tr>\n",
       "  </tbody>\n",
       "</table>\n",
       "</div>"
      ],
      "text/plain": [
       "                                              userId userType  historySize  \\\n",
       "0  e5f68d5e7cdbe56d6984589b4baa6ebfc5e8a8a918e57d...   Logged           12   \n",
       "1  e5f68d5e7cdbe56d6984589b4baa6ebfc5e8a8a918e57d...   Logged           12   \n",
       "2  e5f68d5e7cdbe56d6984589b4baa6ebfc5e8a8a918e57d...   Logged           12   \n",
       "\n",
       "                                history         timestampHistory  \\\n",
       "0  7456c88d-6473-46ed-83a6-dfc406994162  2022-08-01 16:13:12.309   \n",
       "1  458bf0ec-efb4-4bfd-9446-c80295e6aa87  2022-08-05 11:03:37.494   \n",
       "2  89fa73f0-4341-4de4-bb2a-e429ef96bd43  2022-08-05 11:25:02.544   \n",
       "\n",
       "   numberOfClicksHistory  timeOnPageHistory  scrollPercentageHistory  \\\n",
       "0                     21              84995                    43.48   \n",
       "1                     79             536583                    75.56   \n",
       "2                     25             110000                    45.06   \n",
       "\n",
       "   pageVisitsCountHistory     timestampHistory_new  \n",
       "0                       1  2022-08-01 16:13:12.309  \n",
       "1                       1  2022-08-05 11:03:37.494  \n",
       "2                       1  2022-08-05 11:25:02.544  "
      ]
     },
     "execution_count": 11,
     "metadata": {},
     "output_type": "execute_result"
    }
   ],
   "source": [
    "df_user.head(3)"
   ]
  },
  {
   "cell_type": "code",
   "execution_count": 12,
   "id": "671ef9d4",
   "metadata": {
    "execution": {
     "iopub.execute_input": "2025-03-02T15:19:31.237522Z",
     "iopub.status.busy": "2025-03-02T15:19:31.237097Z",
     "iopub.status.idle": "2025-03-02T15:19:31.242871Z",
     "shell.execute_reply": "2025-03-02T15:19:31.242047Z"
    },
    "papermill": {
     "duration": 0.020959,
     "end_time": "2025-03-02T15:19:31.244383",
     "exception": false,
     "start_time": "2025-03-02T15:19:31.223424",
     "status": "completed"
    },
    "tags": []
   },
   "outputs": [
    {
     "data": {
      "text/plain": [
       "(8123951, 10)"
      ]
     },
     "execution_count": 12,
     "metadata": {},
     "output_type": "execute_result"
    }
   ],
   "source": [
    "df_user.shape"
   ]
  },
  {
   "cell_type": "code",
   "execution_count": 13,
   "id": "bada3ace",
   "metadata": {
    "execution": {
     "iopub.execute_input": "2025-03-02T15:19:31.272013Z",
     "iopub.status.busy": "2025-03-02T15:19:31.271675Z",
     "iopub.status.idle": "2025-03-02T15:19:55.676649Z",
     "shell.execute_reply": "2025-03-02T15:19:55.675716Z"
    },
    "papermill": {
     "duration": 24.420989,
     "end_time": "2025-03-02T15:19:55.678495",
     "exception": false,
     "start_time": "2025-03-02T15:19:31.257506",
     "status": "completed"
    },
    "tags": []
   },
   "outputs": [],
   "source": [
    "df_user.drop_duplicates(inplace=True)"
   ]
  },
  {
   "cell_type": "code",
   "execution_count": 14,
   "id": "52c52b8b",
   "metadata": {
    "execution": {
     "iopub.execute_input": "2025-03-02T15:19:55.706291Z",
     "iopub.status.busy": "2025-03-02T15:19:55.705889Z",
     "iopub.status.idle": "2025-03-02T15:20:00.326721Z",
     "shell.execute_reply": "2025-03-02T15:20:00.325547Z"
    },
    "papermill": {
     "duration": 4.636802,
     "end_time": "2025-03-02T15:20:00.328643",
     "exception": false,
     "start_time": "2025-03-02T15:19:55.691841",
     "status": "completed"
    },
    "tags": []
   },
   "outputs": [],
   "source": [
    "df_news = df_news[['page','url','issued','title','caption','body']]\n",
    "df_news.drop_duplicates(inplace=True)"
   ]
  },
  {
   "cell_type": "code",
   "execution_count": 15,
   "id": "228e57b1",
   "metadata": {
    "execution": {
     "iopub.execute_input": "2025-03-02T15:20:00.356383Z",
     "iopub.status.busy": "2025-03-02T15:20:00.355956Z",
     "iopub.status.idle": "2025-03-02T15:20:01.324570Z",
     "shell.execute_reply": "2025-03-02T15:20:01.323349Z"
    },
    "papermill": {
     "duration": 0.984441,
     "end_time": "2025-03-02T15:20:01.326348",
     "exception": false,
     "start_time": "2025-03-02T15:20:00.341907",
     "status": "completed"
    },
    "tags": []
   },
   "outputs": [
    {
     "name": "stdout",
     "output_type": "stream",
     "text": [
      "Index(['user_id', 'userType', 'historySize', 'news_id', 'timestampHistory',\n",
      "       'numberOfClicksHistory', 'timeOnPageHistory', 'scrollPercentageHistory',\n",
      "       'pageVisitsCountHistory', 'timestampHistory_new'],\n",
      "      dtype='object')\n",
      "Index(['news_id', 'url', 'issued', 'title', 'caption', 'body'], dtype='object')\n",
      "Notícias tamanho: 255603\n",
      "Interações tamanho: 8123951\n"
     ]
    }
   ],
   "source": [
    "padrao_colunas_user = {\n",
    "    'userId': 'user_id',\n",
    "    'history': 'news_id',\n",
    "    'page': 'news_id',\n",
    "}\n",
    "\n",
    "df_user = df_user.rename(columns=padrao_colunas_user)\n",
    "df_news = df_news.rename(columns=padrao_colunas_user)\n",
    "\n",
    "print(df_user.columns)\n",
    "print(df_news.columns)\n",
    "\n",
    "# Exibir quantas interações e notícias restaram após o filtro\n",
    "print(f\"Notícias tamanho: {df_news.shape[0]}\")\n",
    "print(f\"Interações tamanho: {df_user.shape[0]}\")"
   ]
  },
  {
   "cell_type": "code",
   "execution_count": 16,
   "id": "18256c5d",
   "metadata": {
    "execution": {
     "iopub.execute_input": "2025-03-02T15:20:01.355923Z",
     "iopub.status.busy": "2025-03-02T15:20:01.355585Z",
     "iopub.status.idle": "2025-03-02T15:20:03.710022Z",
     "shell.execute_reply": "2025-03-02T15:20:03.709038Z"
    },
    "papermill": {
     "duration": 2.371216,
     "end_time": "2025-03-02T15:20:03.711665",
     "exception": false,
     "start_time": "2025-03-02T15:20:01.340449",
     "status": "completed"
    },
    "tags": []
   },
   "outputs": [
    {
     "name": "stdout",
     "output_type": "stream",
     "text": [
      "2022-08-15 02:57:16+00:00\n",
      "2014-07-31 08:00:01+00:00\n",
      "Notícias recentes: 33941\n",
      "Interações recentes: 6962404\n"
     ]
    }
   ],
   "source": [
    "# Converter a coluna 'issued' (data da notícia) para datetime\n",
    "df_news['issued'] = pd.to_datetime(df_news['issued'])\n",
    "\n",
    "print(df_news['issued'].max())\n",
    "print(df_news['issued'].min())\n",
    "\n",
    "# Definir um limite de tempo (exemplo: últimos 30 dias)\n",
    "data_limite = df_news['issued'].max() - pd.Timedelta(days=45)\n",
    "\n",
    "# Filtrar notícias mais recentes\n",
    "df_news = df_news[df_news['issued'] >= data_limite]\n",
    "\n",
    "# Agora, filtramos df_user para manter apenas interações com notícias recentes\n",
    "df_user = df_user[df_user['news_id'].isin(df_news['news_id'])]\n",
    "\n",
    "# Exibir quantas interações e notícias restaram após o filtro\n",
    "print(f\"Notícias recentes: {df_news.shape[0]}\")\n",
    "print(f\"Interações recentes: {df_user.shape[0]}\")"
   ]
  },
  {
   "cell_type": "code",
   "execution_count": 17,
   "id": "f5b41b31",
   "metadata": {
    "execution": {
     "iopub.execute_input": "2025-03-02T15:20:03.739160Z",
     "iopub.status.busy": "2025-03-02T15:20:03.738798Z",
     "iopub.status.idle": "2025-03-02T15:20:03.744288Z",
     "shell.execute_reply": "2025-03-02T15:20:03.743267Z"
    },
    "papermill": {
     "duration": 0.02113,
     "end_time": "2025-03-02T15:20:03.745908",
     "exception": false,
     "start_time": "2025-03-02T15:20:03.724778",
     "status": "completed"
    },
    "tags": []
   },
   "outputs": [
    {
     "data": {
      "text/plain": [
       "(33941, 6)"
      ]
     },
     "execution_count": 17,
     "metadata": {},
     "output_type": "execute_result"
    }
   ],
   "source": [
    "df_news.shape"
   ]
  },
  {
   "cell_type": "code",
   "execution_count": 18,
   "id": "bfab9e60",
   "metadata": {
    "execution": {
     "iopub.execute_input": "2025-03-02T15:20:03.774342Z",
     "iopub.status.busy": "2025-03-02T15:20:03.773951Z",
     "iopub.status.idle": "2025-03-02T15:20:03.785255Z",
     "shell.execute_reply": "2025-03-02T15:20:03.784400Z"
    },
    "papermill": {
     "duration": 0.02696,
     "end_time": "2025-03-02T15:20:03.786818",
     "exception": false,
     "start_time": "2025-03-02T15:20:03.759858",
     "status": "completed"
    },
    "tags": []
   },
   "outputs": [
    {
     "data": {
      "text/html": [
       "<div>\n",
       "<style scoped>\n",
       "    .dataframe tbody tr th:only-of-type {\n",
       "        vertical-align: middle;\n",
       "    }\n",
       "\n",
       "    .dataframe tbody tr th {\n",
       "        vertical-align: top;\n",
       "    }\n",
       "\n",
       "    .dataframe thead th {\n",
       "        text-align: right;\n",
       "    }\n",
       "</style>\n",
       "<table border=\"1\" class=\"dataframe\">\n",
       "  <thead>\n",
       "    <tr style=\"text-align: right;\">\n",
       "      <th></th>\n",
       "      <th>news_id</th>\n",
       "      <th>url</th>\n",
       "      <th>issued</th>\n",
       "      <th>title</th>\n",
       "      <th>caption</th>\n",
       "      <th>body</th>\n",
       "    </tr>\n",
       "  </thead>\n",
       "  <tbody>\n",
       "    <tr>\n",
       "      <th>4566</th>\n",
       "      <td>2b5e38bf-10ac-4f83-be25-bc14ab441a3b</td>\n",
       "      <td>http://g1.globo.com/df/distrito-federal/notici...</td>\n",
       "      <td>2022-07-05 11:00:59+00:00</td>\n",
       "      <td>Homem filmado agredindo mulher no portão de ca...</td>\n",
       "      <td>Caso foi na última quarta-feira (29); vítima t...</td>\n",
       "      <td>Câmera de segurança gravou agressão de homem à...</td>\n",
       "    </tr>\n",
       "    <tr>\n",
       "      <th>4567</th>\n",
       "      <td>36a451f3-07a1-4c8c-99bf-6732a9cd6663</td>\n",
       "      <td>http://g1.globo.com/df/distrito-federal/notici...</td>\n",
       "      <td>2022-07-04 23:56:19+00:00</td>\n",
       "      <td>Polícia investiga se acidente na Epia, no DF, ...</td>\n",
       "      <td>Outro carro foi atingido na noite de domingo (...</td>\n",
       "      <td>Acidente na Epia Sul, no DF, no domingo (3) ap...</td>\n",
       "    </tr>\n",
       "    <tr>\n",
       "      <th>4568</th>\n",
       "      <td>a396d8f4-c069-4ed6-b425-f2fccdb4443a</td>\n",
       "      <td>http://g1.globo.com/df/distrito-federal/notici...</td>\n",
       "      <td>2022-07-03 23:10:08+00:00</td>\n",
       "      <td>FOTOS: Parada LGBTQIA+ de Brasília realiza 23ª...</td>\n",
       "      <td>Concentração começou às 14h em frente ao Congr...</td>\n",
       "      <td>Após dois anos suspensa, Parada LGBTQIA+ de Br...</td>\n",
       "    </tr>\n",
       "    <tr>\n",
       "      <th>4569</th>\n",
       "      <td>e996de8d-b5d7-4824-9e44-35997faf4e2f</td>\n",
       "      <td>http://g1.globo.com/df/distrito-federal/notici...</td>\n",
       "      <td>2022-07-08 22:36:43+00:00</td>\n",
       "      <td>TCU identifica superfaturamento na compra de V...</td>\n",
       "      <td>Ao todo, 15.120 comprimidos foram comprados po...</td>\n",
       "      <td>Viagra\\nPixabay\\nO Tribunal de Contas da União...</td>\n",
       "    </tr>\n",
       "    <tr>\n",
       "      <th>4570</th>\n",
       "      <td>810da14a-8be9-4c3d-8fb8-351997a6511a</td>\n",
       "      <td>http://g1.globo.com/df/distrito-federal/notici...</td>\n",
       "      <td>2022-07-08 19:08:18+00:00</td>\n",
       "      <td>IPCA: inflação no DF fica em 0,81% em junho; m...</td>\n",
       "      <td>Dados do IBGE foram divulgados nesta sexta-fei...</td>\n",
       "      <td>Reajuste dos planos de saúde\\nJN\\nA inflação n...</td>\n",
       "    </tr>\n",
       "  </tbody>\n",
       "</table>\n",
       "</div>"
      ],
      "text/plain": [
       "                                   news_id  \\\n",
       "4566  2b5e38bf-10ac-4f83-be25-bc14ab441a3b   \n",
       "4567  36a451f3-07a1-4c8c-99bf-6732a9cd6663   \n",
       "4568  a396d8f4-c069-4ed6-b425-f2fccdb4443a   \n",
       "4569  e996de8d-b5d7-4824-9e44-35997faf4e2f   \n",
       "4570  810da14a-8be9-4c3d-8fb8-351997a6511a   \n",
       "\n",
       "                                                    url  \\\n",
       "4566  http://g1.globo.com/df/distrito-federal/notici...   \n",
       "4567  http://g1.globo.com/df/distrito-federal/notici...   \n",
       "4568  http://g1.globo.com/df/distrito-federal/notici...   \n",
       "4569  http://g1.globo.com/df/distrito-federal/notici...   \n",
       "4570  http://g1.globo.com/df/distrito-federal/notici...   \n",
       "\n",
       "                        issued  \\\n",
       "4566 2022-07-05 11:00:59+00:00   \n",
       "4567 2022-07-04 23:56:19+00:00   \n",
       "4568 2022-07-03 23:10:08+00:00   \n",
       "4569 2022-07-08 22:36:43+00:00   \n",
       "4570 2022-07-08 19:08:18+00:00   \n",
       "\n",
       "                                                  title  \\\n",
       "4566  Homem filmado agredindo mulher no portão de ca...   \n",
       "4567  Polícia investiga se acidente na Epia, no DF, ...   \n",
       "4568  FOTOS: Parada LGBTQIA+ de Brasília realiza 23ª...   \n",
       "4569  TCU identifica superfaturamento na compra de V...   \n",
       "4570  IPCA: inflação no DF fica em 0,81% em junho; m...   \n",
       "\n",
       "                                                caption  \\\n",
       "4566  Caso foi na última quarta-feira (29); vítima t...   \n",
       "4567  Outro carro foi atingido na noite de domingo (...   \n",
       "4568  Concentração começou às 14h em frente ao Congr...   \n",
       "4569  Ao todo, 15.120 comprimidos foram comprados po...   \n",
       "4570  Dados do IBGE foram divulgados nesta sexta-fei...   \n",
       "\n",
       "                                                   body  \n",
       "4566  Câmera de segurança gravou agressão de homem à...  \n",
       "4567  Acidente na Epia Sul, no DF, no domingo (3) ap...  \n",
       "4568  Após dois anos suspensa, Parada LGBTQIA+ de Br...  \n",
       "4569  Viagra\\nPixabay\\nO Tribunal de Contas da União...  \n",
       "4570  Reajuste dos planos de saúde\\nJN\\nA inflação n...  "
      ]
     },
     "execution_count": 18,
     "metadata": {},
     "output_type": "execute_result"
    }
   ],
   "source": [
    "df_news.head(5)"
   ]
  },
  {
   "cell_type": "code",
   "execution_count": 19,
   "id": "4825c0ae",
   "metadata": {
    "execution": {
     "iopub.execute_input": "2025-03-02T15:20:03.814796Z",
     "iopub.status.busy": "2025-03-02T15:20:03.814479Z",
     "iopub.status.idle": "2025-03-02T15:20:03.970083Z",
     "shell.execute_reply": "2025-03-02T15:20:03.968971Z"
    },
    "papermill": {
     "duration": 0.171649,
     "end_time": "2025-03-02T15:20:03.971994",
     "exception": false,
     "start_time": "2025-03-02T15:20:03.800345",
     "status": "completed"
    },
    "tags": []
   },
   "outputs": [],
   "source": [
    "df_news['news_content'] = df_news['title'] + ' ' + df_news['caption'] + ' ' + df_news['body']"
   ]
  },
  {
   "cell_type": "code",
   "execution_count": 20,
   "id": "66fc4e44",
   "metadata": {
    "execution": {
     "iopub.execute_input": "2025-03-02T15:20:04.000601Z",
     "iopub.status.busy": "2025-03-02T15:20:04.000266Z",
     "iopub.status.idle": "2025-03-02T15:20:16.622946Z",
     "shell.execute_reply": "2025-03-02T15:20:16.622071Z"
    },
    "papermill": {
     "duration": 12.63885,
     "end_time": "2025-03-02T15:20:16.624772",
     "exception": false,
     "start_time": "2025-03-02T15:20:03.985922",
     "status": "completed"
    },
    "tags": []
   },
   "outputs": [],
   "source": [
    "vectorizer = TfidfVectorizer(stop_words=stopwords_ptbr)\n",
    "tfidf_matrix = vectorizer.fit_transform(df_news['news_content'])"
   ]
  },
  {
   "cell_type": "markdown",
   "id": "405b3ca4",
   "metadata": {
    "papermill": {
     "duration": 0.013087,
     "end_time": "2025-03-02T15:20:16.651959",
     "exception": false,
     "start_time": "2025-03-02T15:20:16.638872",
     "status": "completed"
    },
    "tags": []
   },
   "source": [
    "### Calcular a similaridade entre as notícias"
   ]
  },
  {
   "cell_type": "code",
   "execution_count": 21,
   "id": "f2dde177",
   "metadata": {
    "execution": {
     "iopub.execute_input": "2025-03-02T15:20:16.679639Z",
     "iopub.status.busy": "2025-03-02T15:20:16.679303Z",
     "iopub.status.idle": "2025-03-02T15:21:42.451237Z",
     "shell.execute_reply": "2025-03-02T15:21:42.450157Z"
    },
    "papermill": {
     "duration": 85.788142,
     "end_time": "2025-03-02T15:21:42.453283",
     "exception": false,
     "start_time": "2025-03-02T15:20:16.665141",
     "status": "completed"
    },
    "tags": []
   },
   "outputs": [],
   "source": [
    "\n",
    "cosine_sim = cosine_similarity(tfidf_matrix, tfidf_matrix)\n"
   ]
  },
  {
   "cell_type": "code",
   "execution_count": 22,
   "id": "1e0b0e88",
   "metadata": {
    "execution": {
     "iopub.execute_input": "2025-03-02T15:21:42.482432Z",
     "iopub.status.busy": "2025-03-02T15:21:42.482023Z",
     "iopub.status.idle": "2025-03-02T15:21:42.487593Z",
     "shell.execute_reply": "2025-03-02T15:21:42.486751Z"
    },
    "papermill": {
     "duration": 0.021719,
     "end_time": "2025-03-02T15:21:42.489288",
     "exception": false,
     "start_time": "2025-03-02T15:21:42.467569",
     "status": "completed"
    },
    "tags": []
   },
   "outputs": [],
   "source": [
    "# Função para recomendar notícias baseadas em conteúdo\n",
    "def recommend_news_based_on_content(user_history, cosine_sim, df_news, num_recommendations=10):\n",
    "    recommended_news = set()\n",
    "    \n",
    "    for news_id in user_history['news_id']:\n",
    "        if news_id in news_id_to_index:  # Verifica se o ID está no mapeamento\n",
    "            news_index = news_id_to_index[news_id]  # Obtém o índice correto\n",
    "            \n",
    "            # Obter os índices das notícias mais similares\n",
    "            similar_indices = cosine_sim[news_index].argsort()[:-num_recommendations-1:-1]\n",
    "            \n",
    "            # Adicionar as notícias recomendadas\n",
    "            recommended_news.update(df_news.iloc[similar_indices]['title'].values)\n",
    "    \n",
    "    return list(recommended_news)[:num_recommendations]"
   ]
  },
  {
   "cell_type": "markdown",
   "id": "03d080f8",
   "metadata": {
    "papermill": {
     "duration": 0.013106,
     "end_time": "2025-03-02T15:21:42.515975",
     "exception": false,
     "start_time": "2025-03-02T15:21:42.502869",
     "status": "completed"
    },
    "tags": []
   },
   "source": [
    "### Criar um dicionário para mapear news_id para índice na matriz cosine_sim"
   ]
  },
  {
   "cell_type": "code",
   "execution_count": 23,
   "id": "c6508c6a",
   "metadata": {
    "execution": {
     "iopub.execute_input": "2025-03-02T15:21:42.544827Z",
     "iopub.status.busy": "2025-03-02T15:21:42.544464Z",
     "iopub.status.idle": "2025-03-02T15:21:42.557598Z",
     "shell.execute_reply": "2025-03-02T15:21:42.556636Z"
    },
    "papermill": {
     "duration": 0.029525,
     "end_time": "2025-03-02T15:21:42.559424",
     "exception": false,
     "start_time": "2025-03-02T15:21:42.529899",
     "status": "completed"
    },
    "tags": []
   },
   "outputs": [],
   "source": [
    "news_id_to_index = {news_id: idx for idx, news_id in enumerate(df_news['news_id'])}"
   ]
  },
  {
   "cell_type": "markdown",
   "id": "cfaf8c54",
   "metadata": {
    "papermill": {
     "duration": 0.01301,
     "end_time": "2025-03-02T15:21:42.586052",
     "exception": false,
     "start_time": "2025-03-02T15:21:42.573042",
     "status": "completed"
    },
    "tags": []
   },
   "source": [
    "### Exemplo de histórico do usuário"
   ]
  },
  {
   "cell_type": "code",
   "execution_count": 24,
   "id": "e83fb94f",
   "metadata": {
    "execution": {
     "iopub.execute_input": "2025-03-02T15:21:42.613821Z",
     "iopub.status.busy": "2025-03-02T15:21:42.613450Z",
     "iopub.status.idle": "2025-03-02T15:21:43.170400Z",
     "shell.execute_reply": "2025-03-02T15:21:43.169226Z"
    },
    "papermill": {
     "duration": 0.572879,
     "end_time": "2025-03-02T15:21:43.172265",
     "exception": false,
     "start_time": "2025-03-02T15:21:42.599386",
     "status": "completed"
    },
    "tags": []
   },
   "outputs": [],
   "source": [
    "user = '1505326617b9465f6e13eb1d0d9782bff2af61822a7bc780fa058e95851d15ee'\n",
    "user_history = df_user[df_user['user_id'] == user]\n",
    "user_history = user_history[['user_id', 'news_id']]\n",
    "user_history = user_history[user_history['news_id'].isin(df_news['news_id'])]"
   ]
  },
  {
   "cell_type": "code",
   "execution_count": 25,
   "id": "e8f2dcae",
   "metadata": {
    "execution": {
     "iopub.execute_input": "2025-03-02T15:21:43.202247Z",
     "iopub.status.busy": "2025-03-02T15:21:43.201885Z",
     "iopub.status.idle": "2025-03-02T15:21:43.210616Z",
     "shell.execute_reply": "2025-03-02T15:21:43.209649Z"
    },
    "papermill": {
     "duration": 0.026111,
     "end_time": "2025-03-02T15:21:43.212224",
     "exception": false,
     "start_time": "2025-03-02T15:21:43.186113",
     "status": "completed"
    },
    "tags": []
   },
   "outputs": [
    {
     "name": "stdout",
     "output_type": "stream",
     "text": [
      "['Infográfico mostra como foi movimentação no ataque a Shinzo Abe', 'Ex-premiê Shinzo Abe morre após ser baleado no Japão', 'Vídeos mostram diferentes ângulos do ataque ao ex-premiê do Japão, Shinzo Abe; VEJA', 'Novo vídeo mostra que Shinzo Abe foi atingido pelas costas; VEJA']\n"
     ]
    }
   ],
   "source": [
    "# Recomendando notícias com base no conteúdo do histórico\n",
    "recommended_news = recommend_news_based_on_content(user_history, cosine_sim, df_news, num_recommendations=5)\n",
    "print(recommended_news)"
   ]
  },
  {
   "cell_type": "markdown",
   "id": "df991593",
   "metadata": {
    "papermill": {
     "duration": 0.013828,
     "end_time": "2025-03-02T15:21:43.240671",
     "exception": false,
     "start_time": "2025-03-02T15:21:43.226843",
     "status": "completed"
    },
    "tags": []
   },
   "source": [
    "## AWS - S3 - Configuração para subir o modelo treinado"
   ]
  },
  {
   "cell_type": "code",
   "execution_count": 26,
   "id": "b11c800f",
   "metadata": {
    "execution": {
     "iopub.execute_input": "2025-03-02T15:21:43.269521Z",
     "iopub.status.busy": "2025-03-02T15:21:43.269142Z",
     "iopub.status.idle": "2025-03-02T15:21:45.062761Z",
     "shell.execute_reply": "2025-03-02T15:21:45.061352Z"
    },
    "papermill": {
     "duration": 1.810198,
     "end_time": "2025-03-02T15:21:45.064707",
     "exception": false,
     "start_time": "2025-03-02T15:21:43.254509",
     "status": "completed"
    },
    "tags": []
   },
   "outputs": [],
   "source": [
    "import os\n",
    "import boto3\n",
    "import pickle\n",
    "from io import BytesIO\n",
    "from kaggle_secrets import UserSecretsClient\n",
    "\n",
    "user_secrets = UserSecretsClient()\n",
    "\n",
    "# Configurações da AWS\n",
    "AWS_ACCESS_KEY = user_secrets.get_secret(\"AWS_ACCESS_KEY_ID\")\n",
    "AWS_SECRET_KEY = user_secrets.get_secret(\"AWS_SECRET_ACCESS_KEY\")\n",
    "AWS_SESSION_TOKEN = user_secrets.get_secret(\"AWS_SESSION_TOKEN\")\n",
    "AWS_REGION = user_secrets.get_secret(\"AWS_REGION\")\n",
    "BUCKET_NAME = \"datathon-base\"\n",
    "\n",
    "# Criar conexão com o S3\n",
    "def get_s3_client():\n",
    "    return boto3.client(\n",
    "        \"s3\",\n",
    "        aws_access_key_id=AWS_ACCESS_KEY,\n",
    "        aws_secret_access_key=AWS_SECRET_KEY,\n",
    "        aws_session_token=AWS_SESSION_TOKEN,\n",
    "        region_name=AWS_REGION,\n",
    "    )\n",
    "\n",
    "# Função para salvar o modelo no S3\n",
    "def save_model_to_s3(model_data, s3_path=\"models/news_recommendation_model_history.pkl\"):\n",
    "    s3 = get_s3_client()\n",
    "    \n",
    "    # Serializar o modelo\n",
    "    with open(\"news_recommendation_model_history.pkl\", \"wb\") as f:\n",
    "        pickle.dump(model_data, f)\n",
    "\n",
    "    # Fazer upload para o S3\n",
    "    with open(\"news_recommendation_model_history.pkl\", \"rb\") as f:\n",
    "        s3.upload_fileobj(f, BUCKET_NAME, s3_path)\n",
    "\n",
    "    print(f\"Modelo salvo no S3 em: s3://{BUCKET_NAME}/{s3_path}\")\n",
    "\n",
    "# Função para carregar o modelo do S3\n",
    "def load_model_from_s3(s3_path=\"models/news_recommendation_model_history.pkl\"):\n",
    "    s3 = get_s3_client()\n",
    "    \n",
    "    # Baixar o arquivo do S3\n",
    "    with open(\"news_recommendation_model_history.pkl\", \"wb\") as f:\n",
    "        s3.download_fileobj(BUCKET_NAME, s3_path, f)\n",
    "\n",
    "    # Carregar o modelo\n",
    "    with open(\"news_recommendation_model_history.pkl\", \"rb\") as f:\n",
    "        model_data = pickle.load(f)\n",
    "\n",
    "    print(\"Modelo carregado com sucesso!\")\n",
    "    return model_data\n",
    "\n"
   ]
  },
  {
   "cell_type": "markdown",
   "id": "6fb7ca5b",
   "metadata": {
    "papermill": {
     "duration": 0.013292,
     "end_time": "2025-03-02T15:21:45.091738",
     "exception": false,
     "start_time": "2025-03-02T15:21:45.078446",
     "status": "completed"
    },
    "tags": []
   },
   "source": [
    "### Salvando o modelo na AWS"
   ]
  },
  {
   "cell_type": "code",
   "execution_count": 27,
   "id": "1f9fc9cf",
   "metadata": {
    "execution": {
     "iopub.execute_input": "2025-03-02T15:21:45.120038Z",
     "iopub.status.busy": "2025-03-02T15:21:45.119699Z",
     "iopub.status.idle": "2025-03-02T15:24:38.621805Z",
     "shell.execute_reply": "2025-03-02T15:24:38.620112Z"
    },
    "papermill": {
     "duration": 173.535397,
     "end_time": "2025-03-02T15:24:38.640597",
     "exception": false,
     "start_time": "2025-03-02T15:21:45.105200",
     "status": "completed"
    },
    "tags": []
   },
   "outputs": [
    {
     "name": "stdout",
     "output_type": "stream",
     "text": [
      "Modelo salvo no S3 em: s3://datathon-base/models/news_recommendation_model_history.pkl\n"
     ]
    }
   ],
   "source": [
    "save_model_to_s3(cosine_sim)"
   ]
  }
 ],
 "metadata": {
  "kaggle": {
   "accelerator": "none",
   "dataSources": [
    {
     "datasetId": 6709832,
     "sourceId": 10835007,
     "sourceType": "datasetVersion"
    }
   ],
   "dockerImageVersionId": 30918,
   "isGpuEnabled": false,
   "isInternetEnabled": true,
   "language": "python",
   "sourceType": "notebook"
  },
  "kernelspec": {
   "display_name": "Python 3",
   "language": "python",
   "name": "python3"
  },
  "language_info": {
   "codemirror_mode": {
    "name": "ipython",
    "version": 3
   },
   "file_extension": ".py",
   "mimetype": "text/x-python",
   "name": "python",
   "nbconvert_exporter": "python",
   "pygments_lexer": "ipython3",
   "version": "3.10.12"
  },
  "papermill": {
   "default_parameters": {},
   "duration": 464.706084,
   "end_time": "2025-03-02T15:24:41.482456",
   "environment_variables": {},
   "exception": null,
   "input_path": "__notebook__.ipynb",
   "output_path": "__notebook__.ipynb",
   "parameters": {},
   "start_time": "2025-03-02T15:16:56.776372",
   "version": "2.6.0"
  }
 },
 "nbformat": 4,
 "nbformat_minor": 5
}
